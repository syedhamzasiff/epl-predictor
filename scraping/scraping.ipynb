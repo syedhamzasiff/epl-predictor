{
 "cells": [
  {
   "cell_type": "code",
   "execution_count": 7,
   "id": "63bc21e7-a661-41d5-8c42-ba32a6f25260",
   "metadata": {},
   "outputs": [],
   "source": [
    "import requests"
   ]
  },
  {
   "cell_type": "code",
   "execution_count": 8,
   "id": "f8c20881-1afa-4cc3-99d9-6b42514c7e5f",
   "metadata": {},
   "outputs": [],
   "source": [
    "standings_url = \"https://fbref.com/en/comps/9/Premier-League-Stats\""
   ]
  },
  {
   "cell_type": "code",
   "execution_count": 14,
   "id": "43348791-39ac-4361-a1e4-20d0c14fcafa",
   "metadata": {},
   "outputs": [],
   "source": [
    "data = requests.get(standings_url)"
   ]
  },
  {
   "cell_type": "code",
   "execution_count": 16,
   "id": "80e14332-5a70-4bee-b520-1797774d23cc",
   "metadata": {},
   "outputs": [],
   "source": [
    "from bs4 import BeautifulSoup"
   ]
  },
  {
   "cell_type": "code",
   "execution_count": 17,
   "id": "67379f0b-a703-472e-ac3b-221c12ba50f4",
   "metadata": {},
   "outputs": [],
   "source": [
    "soup = BeautifulSoup(data.text)"
   ]
  },
  {
   "cell_type": "code",
   "execution_count": 20,
   "id": "e810dd0d-9a19-4633-8453-01f7ab6af0f4",
   "metadata": {},
   "outputs": [],
   "source": [
    "standings_table = soup.select('table.stats_table')[0]"
   ]
  },
  {
   "cell_type": "code",
   "execution_count": 21,
   "id": "88dcda8d-9a9d-41ed-a57e-c7088f60b938",
   "metadata": {},
   "outputs": [],
   "source": [
    "links = standings_table.find_all('a')"
   ]
  },
  {
   "cell_type": "code",
   "execution_count": 24,
   "id": "9f662a05-9745-4665-a555-4490c078c540",
   "metadata": {},
   "outputs": [],
   "source": [
    "links = [l.get(\"href\") for l in links]"
   ]
  },
  {
   "cell_type": "code",
   "execution_count": 25,
   "id": "1159c4da-e218-45b4-9ebe-337e6b5412e1",
   "metadata": {},
   "outputs": [],
   "source": [
    "links = [l for l in links if '/squads/'in l]"
   ]
  },
  {
   "cell_type": "code",
   "execution_count": 29,
   "id": "0ddb6800-71c1-488a-9e37-8f73a3d9752f",
   "metadata": {},
   "outputs": [],
   "source": [
    "team_urls = [f\"https://fbref.com{l}\" for l in links]"
   ]
  },
  {
   "cell_type": "code",
   "execution_count": 31,
   "id": "1c954186-2dec-4f5a-8c76-14842c82bca3",
   "metadata": {},
   "outputs": [],
   "source": [
    "team_url = team_url[0]"
   ]
  },
  {
   "cell_type": "code",
   "execution_count": 34,
   "id": "84561799-a484-46a2-9f16-205b464fdd67",
   "metadata": {},
   "outputs": [],
   "source": [
    "data = requests.get(team_url)"
   ]
  },
  {
   "cell_type": "code",
   "execution_count": 37,
   "id": "530c3b53-69d5-44d4-a9e0-ac8214cb7332",
   "metadata": {},
   "outputs": [],
   "source": [
    "import pandas as pd\n",
    "from io import StringIO\n",
    "\n",
    "# Assuming data.text contains the HTML string\n",
    "html_string = data.text\n",
    "\n",
    "# Use StringIO to create a file-like object\n",
    "html_file_like = StringIO(html_string)\n",
    "\n",
    "# Read HTML using the file-like object\n",
    "matches = pd.read_html(html_file_like, match=\"Scores & Fixtures\")\n"
   ]
  },
  {
   "cell_type": "code",
   "execution_count": null,
   "id": "3ddef0bc-a79e-4975-8463-ff44ecb49171",
   "metadata": {},
   "outputs": [],
   "source": []
  }
 ],
 "metadata": {
  "kernelspec": {
   "display_name": "Python 3 (ipykernel)",
   "language": "python",
   "name": "python3"
  },
  "language_info": {
   "codemirror_mode": {
    "name": "ipython",
    "version": 3
   },
   "file_extension": ".py",
   "mimetype": "text/x-python",
   "name": "python",
   "nbconvert_exporter": "python",
   "pygments_lexer": "ipython3",
   "version": "3.12.1"
  }
 },
 "nbformat": 4,
 "nbformat_minor": 5
}
